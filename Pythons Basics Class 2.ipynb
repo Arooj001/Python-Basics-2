{
 "cells": [
  {
   "cell_type": "markdown",
   "id": "13859b6a",
   "metadata": {},
   "source": [
    "**Creation of String**"
   ]
  },
  {
   "cell_type": "code",
   "execution_count": 2,
   "id": "50453efc",
   "metadata": {},
   "outputs": [
    {
     "name": "stdout",
     "output_type": "stream",
     "text": [
      "\n",
      "String with the use of Double Quotes: \n",
      "Welcome to the Python Class\n"
     ]
    }
   ],
   "source": [
    "string1 = \"Welcome to the Python Class\"\n",
    "print(\"\\nString with the use of Double Quotes: \")\n",
    "print(string1)"
   ]
  },
  {
   "cell_type": "code",
   "execution_count": 9,
   "id": "224946f3",
   "metadata": {
    "scrolled": true
   },
   "outputs": [
    {
     "name": "stdout",
     "output_type": "stream",
     "text": [
      "\n",
      "String with the use of Single Quote: \n",
      "I am Learning Python with enthusiasm\n"
     ]
    }
   ],
   "source": [
    "string2 = \"I am Learning Python with enthusiasm\"\n",
    "print('\\nString with the use of Single Quote: ')\n",
    "print(string2)"
   ]
  },
  {
   "cell_type": "code",
   "execution_count": 8,
   "id": "172ced9e",
   "metadata": {},
   "outputs": [
    {
     "name": "stdout",
     "output_type": "stream",
     "text": [
      "\n",
      "Creating a multiline String: \n",
      "I am \n",
      "Learning Python \n",
      "for Data Science\n"
     ]
    }
   ],
   "source": [
    "string3 = '''I am \n",
    "Learning Python \n",
    "for Data Science'''\n",
    "print(\"\\nCreating a multiline String: \")\n",
    "print(string3)"
   ]
  },
  {
   "cell_type": "markdown",
   "id": "4bdec79c",
   "metadata": {},
   "source": [
    "**Updating String**"
   ]
  },
  {
   "cell_type": "code",
   "execution_count": 10,
   "id": "3165f576",
   "metadata": {},
   "outputs": [
    {
     "name": "stdout",
     "output_type": "stream",
     "text": [
      "I like to Write\n"
     ]
    }
   ],
   "source": [
    "string = \"I like to Read\"\n",
    "updatedstring = string.replace(\"Read\",\"Write\")\n",
    "print(updatedstring)"
   ]
  },
  {
   "cell_type": "code",
   "execution_count": 11,
   "id": "4806236d",
   "metadata": {},
   "outputs": [
    {
     "name": "stdout",
     "output_type": "stream",
     "text": [
      "I like to Dogs\n"
     ]
    }
   ],
   "source": [
    "string = \"I like to Cats\"\n",
    "updatedstring = string.replace(\"Cats\",\"Dogs\")\n",
    "print(updatedstring)"
   ]
  },
  {
   "cell_type": "markdown",
   "id": "1d008635",
   "metadata": {},
   "source": [
    "**Access Character of String**"
   ]
  },
  {
   "cell_type": "code",
   "execution_count": 12,
   "id": "b30fce05",
   "metadata": {},
   "outputs": [
    {
     "name": "stdout",
     "output_type": "stream",
     "text": [
      "\n",
      "Initial String: \n",
      "I am Learning Python Programming for DS\n",
      "\n",
      "First Character of the String is: \n",
      "I\n",
      "\n",
      "Last Character of the String is: \n",
      "S\n"
     ]
    }
   ],
   "source": [
    "String = \"I am Learning Python Programming for DS\"\n",
    "print(\"\\nInitial String: \")\n",
    "print(String)\n",
    "\n",
    "print('\\nFirst Character of the String is: ')\n",
    "print(String[0])\n",
    "\n",
    "print('\\nLast Character of the String is: ')\n",
    "print(String[-1])"
   ]
  },
  {
   "cell_type": "markdown",
   "id": "ea1b708e",
   "metadata": {},
   "source": [
    "**String Slicing**"
   ]
  },
  {
   "cell_type": "code",
   "execution_count": 13,
   "id": "8ba5394d",
   "metadata": {},
   "outputs": [
    {
     "name": "stdout",
     "output_type": "stream",
     "text": [
      "P\n"
     ]
    }
   ],
   "source": [
    "text = \"Python\"\n",
    "print(text[0])"
   ]
  },
  {
   "cell_type": "code",
   "execution_count": 14,
   "id": "d4b09d4a",
   "metadata": {},
   "outputs": [
    {
     "name": "stdout",
     "output_type": "stream",
     "text": [
      "h\n"
     ]
    }
   ],
   "source": [
    "text = \"Python\"\n",
    "print(text[3])"
   ]
  },
  {
   "cell_type": "code",
   "execution_count": 18,
   "id": "7702c648",
   "metadata": {},
   "outputs": [
    {
     "name": "stdout",
     "output_type": "stream",
     "text": [
      "Pto\n"
     ]
    }
   ],
   "source": [
    "text = \"Python\"\n",
    "print(text[0:5:2])"
   ]
  },
  {
   "cell_type": "code",
   "execution_count": 19,
   "id": "6facf3e9",
   "metadata": {},
   "outputs": [
    {
     "name": "stdout",
     "output_type": "stream",
     "text": [
      "yhnrg\n"
     ]
    }
   ],
   "source": [
    "text = \"PythonProgramming\"\n",
    "print(text[1:10:2])"
   ]
  },
  {
   "cell_type": "code",
   "execution_count": 21,
   "id": "12e5b8f0",
   "metadata": {},
   "outputs": [
    {
     "name": "stdout",
     "output_type": "stream",
     "text": [
      "\n",
      "Inital String: \n",
      "I am Learning Python for Data Science\n",
      "\n",
      "Slicing Character from 3 - 12: \n",
      "m Learnin\n",
      "\n",
      "Slicing characters between 3rd and 2nd last character: \n",
      "m Learning Python for Data Scien\n"
     ]
    }
   ],
   "source": [
    "string = \"I am Learning Python for Data Science\"\n",
    "print(\"\\nInital String: \")\n",
    "print(string)\n",
    "\n",
    "print(\"\\nSlicing Character from 3 - 12: \")\n",
    "print(string[3:12])\n",
    "\n",
    "print(\"\\nSlicing characters between 3rd and 2nd last character: \")\n",
    "print(string[3:-2])"
   ]
  },
  {
   "cell_type": "code",
   "execution_count": 23,
   "id": "e8c21716",
   "metadata": {},
   "outputs": [
    {
     "name": "stdout",
     "output_type": "stream",
     "text": [
      "\n",
      "Inital String: \n",
      "I am Learning Python for Data Science\n",
      "\n",
      "Slicing characters between 3rd and 2nd last character: \n",
      "mengyof tSe\n",
      "\n",
      "Slicing characters between 3rd and 2nd last character: \n",
      "Lann yhnfrDt c\n"
     ]
    }
   ],
   "source": [
    "string = \"I am Learning Python for Data Science\"\n",
    "print(\"\\nInital String: \")\n",
    "print(string)\n",
    "\n",
    "print(\"\\nSlicing characters between 3rd and 2nd last character step 2: \")\n",
    "print(string[3:-2:3])\n",
    "\n",
    "print(\"\\nSlicing characters between 5th and 4th last character step 2: \")\n",
    "print(string[5:-4:2])"
   ]
  },
  {
   "cell_type": "code",
   "execution_count": 27,
   "id": "474c71cb",
   "metadata": {},
   "outputs": [
    {
     "name": "stdout",
     "output_type": "stream",
     "text": [
      "\n",
      "Original String: I am Learning Python for Data Science\n",
      "ecneicS ataD rof nohtyP gninraeL ma I\n",
      "ecaftne \n",
      "ecneicS ataD rof nohtyP gninraeL ma I\n"
     ]
    }
   ],
   "source": [
    "string = \"I am Learning Python for Data Science\"\n",
    "print(\"\\nOriginal String: \" + string)\n",
    "\n",
    "print(string[::-1])\n",
    "\n",
    "print(string[::-5])\n",
    "\n",
    "string = \"\".join(reversed(string))\n",
    "print(string)"
   ]
  },
  {
   "cell_type": "markdown",
   "id": "2b345977",
   "metadata": {},
   "source": [
    "**Immutable in String**"
   ]
  },
  {
   "cell_type": "code",
   "execution_count": 20,
   "id": "9c8b67ef",
   "metadata": {},
   "outputs": [
    {
     "name": "stdout",
     "output_type": "stream",
     "text": [
      "I am an Analyst\n"
     ]
    }
   ],
   "source": [
    "str = \"I am on way to become an Analyst\"\n",
    "str=\"I am an Analyst\"\n",
    "print(str)"
   ]
  },
  {
   "cell_type": "markdown",
   "id": "58e1cc46",
   "metadata": {},
   "source": [
    "**Length Function**"
   ]
  },
  {
   "cell_type": "code",
   "execution_count": 25,
   "id": "acaedb04",
   "metadata": {},
   "outputs": [
    {
     "name": "stdout",
     "output_type": "stream",
     "text": [
      "36\n"
     ]
    }
   ],
   "source": [
    "string = \"Learning Pyton is a great experience\"\n",
    "print(len(string))"
   ]
  },
  {
   "cell_type": "code",
   "execution_count": 26,
   "id": "0199a7de",
   "metadata": {},
   "outputs": [
    {
     "name": "stdout",
     "output_type": "stream",
     "text": [
      "43\n"
     ]
    }
   ],
   "source": [
    "string = \"Usman Rashid teaches the Python Basics Well\"\n",
    "print(len(string))"
   ]
  },
  {
   "cell_type": "markdown",
   "id": "9ef1300c",
   "metadata": {},
   "source": [
    "**Reverse String**"
   ]
  },
  {
   "cell_type": "code",
   "execution_count": 28,
   "id": "d043cfe6",
   "metadata": {},
   "outputs": [
    {
     "name": "stdout",
     "output_type": "stream",
     "text": [
      "gnitseretni etiuq si gnimmargorP nohtyP\n"
     ]
    }
   ],
   "source": [
    "string = \"Python Programming is quite interesting\"\n",
    "\n",
    "string = \"\".join(reversed(string))\n",
    "print(string)"
   ]
  },
  {
   "cell_type": "markdown",
   "id": "b1b4c87a",
   "metadata": {},
   "source": [
    "**Updating Character**"
   ]
  },
  {
   "cell_type": "code",
   "execution_count": 29,
   "id": "affa71c4",
   "metadata": {},
   "outputs": [
    {
     "name": "stdout",
     "output_type": "stream",
     "text": [
      "Initial String: \n",
      "Hello, I'm a Python Learner\n",
      "\n",
      "Updating character at 2nd Index: \n",
      "Heplo, I'm a Python Learner\n",
      "Heplo, I'm a Python Learner\n"
     ]
    }
   ],
   "source": [
    "String1 = \"Hello, I'm a Python Learner\"\n",
    "print(\"Initial String: \")\n",
    "print(String1)\n",
    "\n",
    "x=[1,2,\"3\"]\n",
    "\n",
    "list1 = list(String1)\n",
    "list1[2] = 'p'\n",
    "String2 = ''.join(list1)\n",
    "print(\"\\nUpdating character at 2nd Index: \")\n",
    "print(String2)\n",
    "\n",
    "String3 = String1[0:2] + 'p' + String1[3:]\n",
    "print(String3)"
   ]
  },
  {
   "cell_type": "code",
   "execution_count": 32,
   "id": "345d4d38",
   "metadata": {},
   "outputs": [
    {
     "name": "stdout",
     "output_type": "stream",
     "text": [
      "Initial String: \n",
      "Hey! How are you doing today?\n",
      "\n",
      "Updated Character at 3rd index: \n",
      "Hey! How are you doing today?\n",
      "Hex! How are you doing today?\n"
     ]
    }
   ],
   "source": [
    "string = \"Hey! How are you doing today?\"\n",
    "print(\"Initial String: \")\n",
    "print(string)\n",
    "\n",
    "a = [1, 2, \"3\"]\n",
    "list1 = list(string)\n",
    "list1[3] = 'x'\n",
    "string1 = ''.join(list1)\n",
    "print(\"\\nUpdated Character at 3rd index: \")\n",
    "print(string)\n",
    "\n",
    "string2 = string[0:2] + 'x' + string[3:]\n",
    "print(string2)"
   ]
  },
  {
   "cell_type": "code",
   "execution_count": 34,
   "id": "ffcfb462",
   "metadata": {},
   "outputs": [
    {
     "name": "stdout",
     "output_type": "stream",
     "text": [
      "Initial String: \n",
      "Hey! How are you doing today?\n",
      "\n",
      "Updated Character at 3rd index: \n",
      "Hey! How are you doing today?\n",
      "Heo! How are you doing today?\n"
     ]
    }
   ],
   "source": [
    "string = \"Hey! How are you doing today?\"\n",
    "print(\"Initial String: \")\n",
    "print(string)\n",
    "\n",
    "a = [1, 2, \"3\"]\n",
    "list1 = list(string)\n",
    "list1[3] = 'o'\n",
    "string1 = ''.join(list1)\n",
    "print(\"\\nUpdated Character at 3rd index: \")\n",
    "print(string)\n",
    "\n",
    "string2 = string[0:2] + 'o' + string[3:]\n",
    "print(string2)"
   ]
  },
  {
   "cell_type": "code",
   "execution_count": 35,
   "id": "637baec1",
   "metadata": {},
   "outputs": [
    {
     "name": "stdout",
     "output_type": "stream",
     "text": [
      "Initial String: \n",
      "I am a Python Learner\n",
      "\n",
      "Updated String: \n",
      "I am not a python learner\n"
     ]
    }
   ],
   "source": [
    "string = \"I am a Python Learner\"\n",
    "print(\"Initial String: \")\n",
    "print(string)\n",
    "\n",
    "string = \"I am not a python learner\"\n",
    "print(\"\\nUpdated String: \")\n",
    "print(string)"
   ]
  },
  {
   "cell_type": "markdown",
   "id": "0f4699e1",
   "metadata": {},
   "source": [
    "**Lists**"
   ]
  },
  {
   "cell_type": "code",
   "execution_count": 4,
   "id": "987ee91a",
   "metadata": {},
   "outputs": [
    {
     "name": "stdout",
     "output_type": "stream",
     "text": [
      "Handle\n"
     ]
    }
   ],
   "source": [
    "bicycles = ['track', 'Handle', 'Tyre', 'Air']\n",
    "print(bicycles[1])"
   ]
  },
  {
   "cell_type": "code",
   "execution_count": 6,
   "id": "c0af25ab",
   "metadata": {},
   "outputs": [
    {
     "name": "stdout",
     "output_type": "stream",
     "text": [
      "['honda', 'yamaha', 'suzuki', 'hero']\n",
      "['honda', 'yamaha', 'suzuki', 'hero', 'hi speed']\n"
     ]
    }
   ],
   "source": [
    "motorcycles = ['honda', 'yamaha', 'suzuki', 'hero']\n",
    "print(motorcycles)\n",
    "motorcycles.append('hi speed')\n",
    "print(motorcycles)"
   ]
  },
  {
   "cell_type": "markdown",
   "id": "72f8ee0a",
   "metadata": {},
   "source": [
    "**Tuple**"
   ]
  },
  {
   "cell_type": "code",
   "execution_count": 7,
   "id": "e2684c33",
   "metadata": {},
   "outputs": [
    {
     "name": "stdout",
     "output_type": "stream",
     "text": [
      "(1, 'a', 'string', 3)\n",
      "a\n"
     ]
    }
   ],
   "source": [
    "tup = (1, \"a\", \"string\", 1+2)\n",
    "print(tup)\n",
    "print(tup[1])"
   ]
  },
  {
   "cell_type": "code",
   "execution_count": 8,
   "id": "37d3d9ca",
   "metadata": {},
   "outputs": [
    {
     "name": "stdout",
     "output_type": "stream",
     "text": [
      "(1, 2, 'string', 9, 35)\n"
     ]
    }
   ],
   "source": [
    "tup = (1, 2, \"string\", 3+6, 10+25)\n",
    "print(tup)"
   ]
  },
  {
   "cell_type": "code",
   "execution_count": 9,
   "id": "9f050cb0",
   "metadata": {},
   "outputs": [
    {
     "name": "stdout",
     "output_type": "stream",
     "text": [
      "(10, 'a', (5+4j))\n",
      "(5+4j)\n"
     ]
    }
   ],
   "source": [
    "tup = (55-45, \"a\", 5+4j)\n",
    "print(tup)\n",
    "print(tup[-1])"
   ]
  },
  {
   "cell_type": "code",
   "execution_count": 10,
   "id": "b396f13e",
   "metadata": {},
   "outputs": [
    {
     "name": "stdout",
     "output_type": "stream",
     "text": [
      "('apple', 'banana', 'cherry')\n",
      "cherry\n"
     ]
    }
   ],
   "source": [
    "mytuple = (\"apple\", \"banana\", \"cherry\")\n",
    "print(mytuple)\n",
    "print(mytuple[2])"
   ]
  },
  {
   "cell_type": "markdown",
   "id": "e4e06f69",
   "metadata": {},
   "source": [
    "**Dictionary**"
   ]
  },
  {
   "cell_type": "code",
   "execution_count": 11,
   "id": "1d695dc7",
   "metadata": {},
   "outputs": [
    {
     "name": "stdout",
     "output_type": "stream",
     "text": [
      "{'brand': 'Ford', 'model': 'Mustang', 'year': 1964}\n"
     ]
    }
   ],
   "source": [
    "my_dict = {\"brand\": \"Ford\", \"model\": \"Mustang\", \"year\": 1964}\n",
    "print(my_dict)"
   ]
  },
  {
   "cell_type": "code",
   "execution_count": 16,
   "id": "cf70076b",
   "metadata": {},
   "outputs": [
    {
     "name": "stdout",
     "output_type": "stream",
     "text": [
      "{'Brand': 'Suzuki', 'Model': 'Alto', 'Make': 2023}\n"
     ]
    }
   ],
   "source": [
    "my_dict = {\"Brand\" : \"Honda\", \"Model\" : \"City\", \"Make\" : 2012, \"Brand\" : \"Suzuki\", \"Model\" : \"Alto\", \"Make\" : 2023}\n",
    "print(my_dict)"
   ]
  },
  {
   "cell_type": "code",
   "execution_count": 21,
   "id": "ca1d3540",
   "metadata": {},
   "outputs": [
    {
     "name": "stdout",
     "output_type": "stream",
     "text": [
      "1\n",
      "2.77\n"
     ]
    }
   ],
   "source": [
    "population = [30.45, 2.77, 1.256, 34.12]\n",
    "Countries = [\"Pakistan\", \"Afghanistan\", \"Albania\"]\n",
    "ind_afg=Countries.index(\"Afghanistan\")\n",
    "print(ind_afg)\n",
    "print(population[1])"
   ]
  },
  {
   "cell_type": "code",
   "execution_count": 22,
   "id": "fa729f57",
   "metadata": {},
   "outputs": [
    {
     "name": "stdout",
     "output_type": "stream",
     "text": [
      "1\n",
      "30.45\n"
     ]
    }
   ],
   "source": [
    "population = [30.45, 2.77, 1.256, 34.12]\n",
    "Countries = [\"Pakistan\", \"Afghanistan\", \"Albania\"]\n",
    "ind_pak = Countries.index(\"Afghanistan\")\n",
    "print(ind_pak)\n",
    "print(population[0])"
   ]
  },
  {
   "cell_type": "code",
   "execution_count": 25,
   "id": "d08c6098",
   "metadata": {},
   "outputs": [
    {
     "data": {
      "text/plain": [
       "2.77"
      ]
     },
     "execution_count": 25,
     "metadata": {},
     "output_type": "execute_result"
    }
   ],
   "source": [
    "World = {\"Pakistan\":30.45,\"Afghanistan\":2.77,\"Albania\":34.12}\n",
    "World[\"Afghanistan\"]"
   ]
  },
  {
   "cell_type": "code",
   "execution_count": 26,
   "id": "2ac8daa2",
   "metadata": {},
   "outputs": [
    {
     "data": {
      "text/plain": [
       "30.45"
      ]
     },
     "execution_count": 26,
     "metadata": {},
     "output_type": "execute_result"
    }
   ],
   "source": [
    "World = {\"Pakistan\":30.45,\"Afghanistan\":2.77,\"Albania\":34.12}\n",
    "World[\"Pakistan\"]"
   ]
  },
  {
   "cell_type": "code",
   "execution_count": 27,
   "id": "2d957aa3",
   "metadata": {},
   "outputs": [
    {
     "data": {
      "text/plain": [
       "{'Pakistan': 30.45, 'Afghanistan': 2.77, 'Albania': 34.12, 'Iran': 22.125}"
      ]
     },
     "execution_count": 27,
     "metadata": {},
     "output_type": "execute_result"
    }
   ],
   "source": [
    "World = {\"Pakistan\":30.45,\"Afghanistan\":2.77,\"Albania\":34.12}\n",
    "World[\"Afghanistan\"]\n",
    "World[\"Iran\"] = 22.125\n",
    "World"
   ]
  },
  {
   "cell_type": "code",
   "execution_count": 28,
   "id": "825f46b9",
   "metadata": {},
   "outputs": [
    {
     "name": "stdout",
     "output_type": "stream",
     "text": [
      "{'Pakistan': 30.45, 'Afghanistan': 2.77, 'Albania': 34.12, 'Iran': 22.125}\n",
      "{'Pakistan': 30.45, 'Afghanistan': 2.77, 'Albania': 34.12}\n"
     ]
    }
   ],
   "source": [
    "World = {\"Pakistan\":30.45,\"Afghanistan\":2.77,\"Albania\":34.12}\n",
    "World[\"Afghanistan\"]\n",
    "World[\"Iran\"] = 22.125\n",
    "print(World)\n",
    "del(World[\"Iran\"])\n",
    "print(World)"
   ]
  },
  {
   "cell_type": "code",
   "execution_count": 29,
   "id": "3075a1fe",
   "metadata": {},
   "outputs": [
    {
     "name": "stdout",
     "output_type": "stream",
     "text": [
      "\n",
      "Dictionary with the use of dict(): \n",
      "{1: 'Python', 2: 'Programming', 3: 'Session'}\n"
     ]
    }
   ],
   "source": [
    "Dict = dict({1: 'Python', 2: 'Programming', 3: 'Session'})\n",
    "print(\"\\nDictionary with the use of dict(): \")\n",
    "print(Dict)"
   ]
  },
  {
   "cell_type": "code",
   "execution_count": 31,
   "id": "e43cd78b",
   "metadata": {},
   "outputs": [
    {
     "name": "stdout",
     "output_type": "stream",
     "text": [
      "Empty Dictionary: \n",
      "{}\n",
      "\n",
      "Dictionary after adding 3 elements: \n",
      "{0: 'Python', 1: 'Session', 2: 5}\n"
     ]
    }
   ],
   "source": [
    "Dict = {}\n",
    "print(\"Empty Dictionary: \")\n",
    "print(Dict)\n",
    "Dict[0] = 'Python'\n",
    "Dict[1] = 'Session'\n",
    "Dict[2] = 5\n",
    "print(\"\\nDictionary after adding 3 elements: \")\n",
    "print(Dict)"
   ]
  },
  {
   "cell_type": "code",
   "execution_count": 32,
   "id": "517c5b46",
   "metadata": {},
   "outputs": [
    {
     "name": "stdout",
     "output_type": "stream",
     "text": [
      "Empty Dictionary: \n",
      "{}\n",
      "\n",
      "Dictionary after adding 4 elements: \n",
      "{0: 'Honda', 1: 'BMW', 2: 'Suzuki', 3: 10}\n"
     ]
    }
   ],
   "source": [
    "Dict = {}\n",
    "print(\"Empty Dictionary: \")\n",
    "print(Dict)\n",
    "Dict[0] = 'Honda'\n",
    "Dict[1] = 'BMW'\n",
    "Dict[2] = 'Suzuki'\n",
    "Dict[3] = 10\n",
    "print(\"\\nDictionary after adding 4 elements: \")\n",
    "print(Dict)"
   ]
  },
  {
   "cell_type": "markdown",
   "id": "7c4a7891",
   "metadata": {},
   "source": [
    "**True False**"
   ]
  },
  {
   "cell_type": "code",
   "execution_count": 33,
   "id": "0fcc526a",
   "metadata": {},
   "outputs": [
    {
     "name": "stdout",
     "output_type": "stream",
     "text": [
      "True\n",
      "False\n",
      "True\n",
      "False\n"
     ]
    }
   ],
   "source": [
    "s = 'spam'\n",
    "print( s in 'This is a spam email')\n",
    "print(s in 'Subject: Hello AtomCamp!')\n",
    "\n",
    "print(s not in 'Subject: Hello AtomCamp!')\n",
    "print(s not in 'This is a spam email')"
   ]
  },
  {
   "cell_type": "markdown",
   "id": "4b27ee41",
   "metadata": {},
   "source": [
    "**Conversion of String**"
   ]
  },
  {
   "cell_type": "code",
   "execution_count": 34,
   "id": "6b9818b7",
   "metadata": {},
   "outputs": [
    {
     "name": "stdout",
     "output_type": "stream",
     "text": [
      "Original String: \n",
      "I AM A PYTHON LEARNER\n",
      "\n",
      "Converted String: \n",
      "i am a python learner\n"
     ]
    }
   ],
   "source": [
    "text = \"I AM A PYTHON LEARNER\"\n",
    "print(\"Original String: \")\n",
    "print(text)\n",
    "\n",
    "print(\"\\nConverted String: \")\n",
    "print(text.lower())"
   ]
  },
  {
   "cell_type": "code",
   "execution_count": 35,
   "id": "0381c5f0",
   "metadata": {},
   "outputs": [
    {
     "name": "stdout",
     "output_type": "stream",
     "text": [
      "Original String: \n",
      "i am a python learner\n",
      "\n",
      "Converted String: \n",
      "I AM A PYTHON LEARNER\n"
     ]
    }
   ],
   "source": [
    "text = \"i am a python learner\"\n",
    "print(\"Original String: \")\n",
    "print(text)\n",
    "\n",
    "print(\"\\nConverted String: \")\n",
    "print(text.upper())"
   ]
  },
  {
   "cell_type": "markdown",
   "id": "17fdb16a",
   "metadata": {},
   "source": [
    "**Startwith and Endswith**"
   ]
  },
  {
   "cell_type": "code",
   "execution_count": 36,
   "id": "d6c7597f",
   "metadata": {},
   "outputs": [
    {
     "name": "stdout",
     "output_type": "stream",
     "text": [
      "True\n",
      "True\n"
     ]
    }
   ],
   "source": [
    "text = \"This is a Python Programming\"\n",
    "print(text.startswith(\"T\"))\n",
    "print(text.startswith(\"This\"))"
   ]
  },
  {
   "cell_type": "code",
   "execution_count": 38,
   "id": "f3efcf39",
   "metadata": {},
   "outputs": [
    {
     "name": "stdout",
     "output_type": "stream",
     "text": [
      "True\n",
      "True\n"
     ]
    }
   ],
   "source": [
    "text = \"This is a Python Programming\"\n",
    "print(text.endswith(\"g\"))\n",
    "print(text.endswith(\"ming\"))"
   ]
  },
  {
   "cell_type": "markdown",
   "id": "97cfb878",
   "metadata": {},
   "source": [
    "**Char Count**"
   ]
  },
  {
   "cell_type": "code",
   "execution_count": 41,
   "id": "5f5edadb",
   "metadata": {},
   "outputs": [
    {
     "name": "stdout",
     "output_type": "stream",
     "text": [
      "7\n"
     ]
    }
   ],
   "source": [
    "text = \"This is Python and i am Learning it enthusiastically\"\n",
    "char_count = text.count(\"i\")\n",
    "print(char_count)"
   ]
  },
  {
   "cell_type": "markdown",
   "id": "f17e8234",
   "metadata": {},
   "source": [
    "**Digit & Alpha**"
   ]
  },
  {
   "cell_type": "code",
   "execution_count": 42,
   "id": "0affd449",
   "metadata": {},
   "outputs": [
    {
     "name": "stdout",
     "output_type": "stream",
     "text": [
      "False\n",
      "True\n"
     ]
    }
   ],
   "source": [
    "my_string = \"Learning Python is a not that difficult\"\n",
    "print(my_string.isdigit())\n",
    "print(\"1000\".isdigit())"
   ]
  },
  {
   "cell_type": "code",
   "execution_count": 43,
   "id": "73fdc577",
   "metadata": {},
   "outputs": [
    {
     "name": "stdout",
     "output_type": "stream",
     "text": [
      "False\n",
      "False\n"
     ]
    }
   ],
   "source": [
    "my_string = \"Learning Python is a not that difficult\"\n",
    "print(my_string.isalpha())\n",
    "print(\"1000\".isalpha())"
   ]
  },
  {
   "cell_type": "code",
   "execution_count": 44,
   "id": "beca40aa",
   "metadata": {},
   "outputs": [
    {
     "name": "stdout",
     "output_type": "stream",
     "text": [
      "True\n",
      "False\n"
     ]
    }
   ],
   "source": [
    "my_string = \"LearningPythonisanotthatdifficult\"\n",
    "print(my_string.isalpha())\n",
    "print(\"1000\".isalpha())"
   ]
  },
  {
   "cell_type": "markdown",
   "id": "3cbbc87e",
   "metadata": {},
   "source": [
    "**SwapeCase**"
   ]
  },
  {
   "cell_type": "code",
   "execution_count": 45,
   "id": "b84241c1",
   "metadata": {},
   "outputs": [
    {
     "name": "stdout",
     "output_type": "stream",
     "text": [
      "hELLO mY nAME IS aROOJ\n"
     ]
    }
   ],
   "source": [
    "text = \"Hello My Name is Arooj\"\n",
    "x = text.swapcase()\n",
    "print(x)"
   ]
  },
  {
   "cell_type": "code",
   "execution_count": 46,
   "id": "58751b0c",
   "metadata": {},
   "outputs": [
    {
     "name": "stdout",
     "output_type": "stream",
     "text": [
      "tHE aRT OF wRITING IS tHE aRT oF dISCOVERING\n"
     ]
    }
   ],
   "source": [
    "text = \"The Art of Writing is The Art Of Discovering\"\n",
    "x = text.swapcase()\n",
    "print(x)"
   ]
  },
  {
   "cell_type": "markdown",
   "id": "ead1316c",
   "metadata": {},
   "source": [
    "**List, Updating Lists, Inserting in Lists**"
   ]
  },
  {
   "cell_type": "code",
   "execution_count": 48,
   "id": "4b6e4791",
   "metadata": {},
   "outputs": [
    {
     "name": "stdout",
     "output_type": "stream",
     "text": [
      "['honda', 'yamaha', 'suzuki', 'hero']\n",
      "['honda', 'yamaha', 'suzuki', 'hero', 'hi speed', 'Super Sonic', 'Metro']\n"
     ]
    }
   ],
   "source": [
    "motorcycles = ['honda', 'yamaha', 'suzuki', 'hero']\n",
    "print(motorcycles)\n",
    "motorcycles.extend(['hi speed', 'Super Sonic', 'Metro'])\n",
    "print(motorcycles)"
   ]
  },
  {
   "cell_type": "code",
   "execution_count": 49,
   "id": "b17873e0",
   "metadata": {},
   "outputs": [
    {
     "name": "stdout",
     "output_type": "stream",
     "text": [
      "[2, 3, 4, 6]\n",
      "12\n"
     ]
    }
   ],
   "source": [
    "T = [[11, 12, 13, 14], [2, 3, 4, 5], [2, 3, 4, 6]]\n",
    "print(T[2])\n",
    "print(T[0][1])"
   ]
  },
  {
   "cell_type": "code",
   "execution_count": 50,
   "id": "890681d7",
   "metadata": {},
   "outputs": [
    {
     "name": "stdout",
     "output_type": "stream",
     "text": [
      "[5, 6, 7, 8]\n"
     ]
    }
   ],
   "source": [
    "T = [[1, 2, 3, 4], [5, 6, 7, 8], [9, 10, 11, 12]]\n",
    "print(T[1])"
   ]
  },
  {
   "cell_type": "code",
   "execution_count": 51,
   "id": "f595b9d2",
   "metadata": {},
   "outputs": [
    {
     "name": "stdout",
     "output_type": "stream",
     "text": [
      "8\n"
     ]
    }
   ],
   "source": [
    "T = [[1, 2, 3, 4], [5, 6, 7, 8], [9, 10, 11, 12]]\n",
    "print(T[1][3])"
   ]
  },
  {
   "cell_type": "code",
   "execution_count": 52,
   "id": "30620040",
   "metadata": {},
   "outputs": [
    {
     "name": "stdout",
     "output_type": "stream",
     "text": [
      "[[55, 66, 77, 88], [1, 2, 3, 4], [5, 6, 7, 8], [9, 10, 11, 12]]\n"
     ]
    }
   ],
   "source": [
    "T.insert(0, [55, 66, 77, 88])\n",
    "print(T)"
   ]
  },
  {
   "cell_type": "code",
   "execution_count": 53,
   "id": "95405815",
   "metadata": {},
   "outputs": [
    {
     "name": "stdout",
     "output_type": "stream",
     "text": [
      "[[55, 66, 77, 88], [1, 2, 3, 4], [11, 22, 33, 44], [9, 10, 11, 12]]\n"
     ]
    }
   ],
   "source": [
    "T[2] = [11, 22, 33, 44]\n",
    "print(T)"
   ]
  },
  {
   "cell_type": "code",
   "execution_count": 54,
   "id": "02399d98",
   "metadata": {},
   "outputs": [
    {
     "name": "stdout",
     "output_type": "stream",
     "text": [
      "[[0, 66, 77, 88], [1, 2, 3, 4], [11, 22, 33, 44], [9, 10, 11, 12]]\n"
     ]
    }
   ],
   "source": [
    "T[0][0] = 00\n",
    "print(T)"
   ]
  },
  {
   "cell_type": "code",
   "execution_count": 55,
   "id": "d8393f91",
   "metadata": {},
   "outputs": [
    {
     "name": "stdout",
     "output_type": "stream",
     "text": [
      "{'Maham': [50, 40, 30], 'Talha': 90}\n"
     ]
    }
   ],
   "source": [
    "Grades = {\"Maham\" : [50, 40, 30], \"Talha\" : 90}\n",
    "print(Grades)"
   ]
  },
  {
   "cell_type": "code",
   "execution_count": 56,
   "id": "3a3fa0b3",
   "metadata": {},
   "outputs": [
    {
     "name": "stdout",
     "output_type": "stream",
     "text": [
      "{'Maham': 91, 'Talha': 90}\n"
     ]
    }
   ],
   "source": [
    "Grades[\"Maham\"] = 91\n",
    "print(Grades)"
   ]
  },
  {
   "cell_type": "code",
   "execution_count": 57,
   "id": "edca6799",
   "metadata": {},
   "outputs": [
    {
     "name": "stdout",
     "output_type": "stream",
     "text": [
      "{'Maham': 91, 'Talha': 94}\n"
     ]
    }
   ],
   "source": [
    "Grades[\"Talha\"] = Grades[\"Talha\"] + 4\n",
    "print(Grades)"
   ]
  }
 ],
 "metadata": {
  "kernelspec": {
   "display_name": "Python 3 (ipykernel)",
   "language": "python",
   "name": "python3"
  },
  "language_info": {
   "codemirror_mode": {
    "name": "ipython",
    "version": 3
   },
   "file_extension": ".py",
   "mimetype": "text/x-python",
   "name": "python",
   "nbconvert_exporter": "python",
   "pygments_lexer": "ipython3",
   "version": "3.11.5"
  }
 },
 "nbformat": 4,
 "nbformat_minor": 5
}
